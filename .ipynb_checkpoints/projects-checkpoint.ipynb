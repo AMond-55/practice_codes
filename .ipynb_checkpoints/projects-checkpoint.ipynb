{
 "cells": [
  {
   "cell_type": "code",
   "execution_count": null,
   "metadata": {},
   "outputs": [],
   "source": [
    "import random"
   ]
  },
  {
   "cell_type": "code",
   "execution_count": null,
   "metadata": {},
   "outputs": [],
   "source": [
    "def computer_guess(x):\n",
    "    low, high = 1, x\n",
    "    verdict = 0\n",
    "    while(verdict != \"c\"):\n",
    "        print(low, high)\n",
    "        computer_chose = random.randint(low, high)\n",
    "        verdict = input(f\"Is {computer_chose} the guess number? Select Too High(H), Too Low(L), Correct(C):\")\n",
    "        if verdict == \"h\": high = computer_chose\n",
    "        elif verdict == \"l\": low = computer_chose\n",
    "    return print(f\"You choose correctly! {computer_chose} is the Guess Number.\")"
   ]
  },
  {
   "cell_type": "code",
   "execution_count": null,
   "metadata": {},
   "outputs": [
    {
     "name": "stdout",
     "output_type": "stream",
     "text": [
      "1 1000\n"
     ]
    },
    {
     "name": "stdin",
     "output_type": "stream",
     "text": [
      "Is 874 the guess number? Select Too High(H), Too Low(L), Correct(C): h\n"
     ]
    },
    {
     "name": "stdout",
     "output_type": "stream",
     "text": [
      "874 1000\n"
     ]
    }
   ],
   "source": [
    "computer_guess(1000)"
   ]
  }
 ],
 "metadata": {
  "kernelspec": {
   "display_name": "Python 3",
   "language": "python",
   "name": "python3"
  },
  "language_info": {
   "codemirror_mode": {
    "name": "ipython",
    "version": 3
   },
   "file_extension": ".py",
   "mimetype": "text/x-python",
   "name": "python",
   "nbconvert_exporter": "python",
   "pygments_lexer": "ipython3",
   "version": "3.7.6"
  }
 },
 "nbformat": 4,
 "nbformat_minor": 4
}
