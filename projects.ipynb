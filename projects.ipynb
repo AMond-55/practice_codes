{
 "cells": [
  {
   "cell_type": "code",
   "execution_count": 1,
   "metadata": {},
   "outputs": [],
   "source": [
    "import random\n",
    "import math"
   ]
  },
  {
   "cell_type": "code",
   "execution_count": 3,
   "metadata": {},
   "outputs": [],
   "source": [
    "def computer_guess(x):\n",
    "    low, high = 1, x\n",
    "    verdict = 0\n",
    "    while(verdict != \"c\"):\n",
    "        print(low, high)\n",
    "        computer_chose = random.randint(low, high)\n",
    "        verdict = input(f\"Is {computer_chose} the guess number? Select Too High(H), Too Low(L), Correct(C):\")\n",
    "        if verdict == \"h\": high = computer_chose\n",
    "        elif verdict == \"l\": low = computer_chose\n",
    "    return print(f\"You choose correctly! {computer_chose} is the Guess Number.\")"
   ]
  },
  {
   "cell_type": "code",
   "execution_count": 4,
   "metadata": {},
   "outputs": [],
   "source": [
    "def user_guess(y):\n",
    "    x = 1\n",
    "    guess_number = random.randint(x, y)\n",
    "    guess = 0\n",
    "    while(guess != guess_number):\n",
    "        if (y-guess_number) >= 3 and (guess_number-x)>=3: \n",
    "            ceiling = y-guess_number\n",
    "            floor = guess_number-x\n",
    "        elif (x-guess_number) < 3: print('Hint: Bet as High as you can! ')\n",
    "        else: print('Hint: Bet as Low as you can! ')\n",
    "\n",
    "        guess = int(input(f\"Guess the number:\"))\n",
    "\n",
    "        if guess > guess_number:\n",
    "            if (guess-guess_number) >= (0.67*ceiling):\n",
    "                y = guess_number + int((0.67*ceiling) + 1)\n",
    "                print(f\"Aimed Too High! Try below {y}\")\n",
    "            else: print(\"On right track. Aim Low.\")\n",
    "        elif guess < guess_number:\n",
    "            if (guess_number-guess) >= (0.67*floor):\n",
    "                x = guess_number - int((0.67*floor) + 1)\n",
    "                print(f\"Aimed Too Low! Try above {x}\")\n",
    "            else: print(\"On right track. Aim High.\")\n",
    "    return print(f\"You hit the Jackpot! Correct number is {guess}\")\n"
   ]
  },
  {
   "cell_type": "code",
   "execution_count": 6,
   "metadata": {},
   "outputs": [
    {
     "output_type": "stream",
     "name": "stdout",
     "text": [
      "Aimed Too High! Try below 338\n",
      "Aimed Too High! Try below 230\n",
      "Aimed Too High! Try below 158\n",
      "Aimed Too High! Try below 109\n",
      "On right track. Aim Low.\n",
      "On right track. Aim Low.\n",
      "On right track. Aim Low.\n",
      "Aimed Too Low! Try above 3\n",
      "On right track. Aim High.\n",
      "On right track. Aim High.\n",
      "You hit the Jackpot! Correct number is 9\n"
     ]
    }
   ],
   "source": [
    "user_guess(500)"
   ]
  },
  {
   "cell_type": "code",
   "execution_count": null,
   "metadata": {},
   "outputs": [],
   "source": [
    "computer_guess(500)"
   ]
  },
  {
   "cell_type": "code",
   "execution_count": 16,
   "metadata": {},
   "outputs": [],
   "source": [
    "#diff = lambda c1, c2, x: abs((c1*x)-(c2*math.log2(x)))"
   ]
  },
  {
   "cell_type": "code",
   "execution_count": 40,
   "metadata": {},
   "outputs": [
    {
     "output_type": "execute_result",
     "data": {
      "text/plain": [
       "46.0"
      ]
     },
     "metadata": {},
     "execution_count": 40
    }
   ],
   "source": [
    "diff(2,50,2)"
   ]
  },
  {
   "cell_type": "code",
   "execution_count": 2,
   "metadata": {},
   "outputs": [],
   "source": [
    "def crossover_point(c1, c2, error_margin):\n",
    "    diff = lambda x: abs((c1*x)-(c2*math.log2(x)))\n",
    "    if (c1 > c2):\n",
    "        return print(\"Try with another set of constant values where 1st value is smaller than 2nd one.\")\n",
    "\n",
    "    x, step = 1, 2\n",
    "    while(diff(x) > error_margin):\n",
    "        step /= 2\n",
    "        a, b, c = diff(x), diff(x + step), diff(x + 2*step)\n",
    "        while((a<b) or (c<b)):\n",
    "            x += step\n",
    "            a, b, c = b, c, diff(x + 2*step)\n",
    "        \n",
    "    return print(f\"The value of X at breakeven point is {x}\")\n",
    "            "
   ]
  },
  {
   "cell_type": "code",
   "execution_count": 3,
   "metadata": {},
   "outputs": [
    {
     "output_type": "stream",
     "name": "stdout",
     "text": [
      "The value of X at breakeven point is 43.55924987792969\n"
     ]
    }
   ],
   "source": [
    "crossover_point(8,64,0.0001)"
   ]
  }
 ],
 "metadata": {
  "kernelspec": {
   "display_name": "Python 3",
   "language": "python",
   "name": "python3"
  },
  "language_info": {
   "codemirror_mode": {
    "name": "ipython",
    "version": 3
   },
   "file_extension": ".py",
   "mimetype": "text/x-python",
   "name": "python",
   "nbconvert_exporter": "python",
   "pygments_lexer": "ipython3",
   "version": "3.7.6-final"
  }
 },
 "nbformat": 4,
 "nbformat_minor": 4
}